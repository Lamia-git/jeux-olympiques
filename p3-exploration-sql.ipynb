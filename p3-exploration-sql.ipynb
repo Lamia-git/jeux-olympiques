{
 "cells": [
  {
   "cell_type": "markdown",
   "metadata": {},
   "source": [
    "# P3. Exploration SQL"
   ]
  },
  {
   "cell_type": "markdown",
   "metadata": {},
   "source": [
    "Le répertoire `/db` contient une base de données SQLite3 `olympics.sqbpro` reprenant les résultats des épreuves des jeux d'été pour une période donnée (cf P1 & P2).\n",
    "\n",
    "On s'intéresse dans le cadre de cette partie P3 à l'exploration via SQL des résultats des JO d'été (table : `summer`)."
   ]
  },
  {
   "cell_type": "markdown",
   "metadata": {},
   "source": [
    "---"
   ]
  },
  {
   "cell_type": "markdown",
   "metadata": {},
   "source": [
    "### Question 1: Qu'est ce que SQL ?"
   ]
  },
  {
   "cell_type": "markdown",
   "metadata": {},
   "source": [
    "***Le SQL (Structured Query Language)*** est un langage permettant de communiquer  et interroger avec une base de données. [sqlSh](https://sql.sh/)\n"
   ]
  },
  {
   "cell_type": "markdown",
   "metadata": {},
   "source": [
    "### Question 2: Qu'est ce que SQLite 3 ? Avantages et/ou Inconvénients ?"
   ]
  },
  {
   "cell_type": "markdown",
   "metadata": {},
   "source": [
    "SQLite est une bibliothèque écrite en langage C qui propose un moteur de base de données relationnelle accessible par le langage SQL.[Wikipédia](https://fr.wikipedia.org/wiki/SQLite).\n",
    "\n",
    "#### Avantages\n",
    "SQLite3 présente l'avantage de n'avoir rien à configurer, rien à maintenir ou à administrer. C'est aussi son objectif. \n",
    "\n",
    "#### Inconvinnients \n",
    "Certaines fonctionnalités sont absentes, comme la gestion des utilisateurs ou la possibilité de se connecter à distance à la base (en TCP/IP par exemple).  [wiki-ubuntu-fr](https://doc.ubuntu-fr.org/sqlite)"
   ]
  },
  {
   "cell_type": "markdown",
   "metadata": {},
   "source": [
    "### Question 3: Donner des exemples d'autres formats de fichier pouvant être utilisé pour fournir des données similaires "
   ]
  },
  {
   "cell_type": "markdown",
   "metadata": {},
   "source": [
    "XML,Json"
   ]
  },
  {
   "cell_type": "markdown",
   "metadata": {},
   "source": [
    "### Question 4: Quel est le type (texte ou binaire) du fichier base de données SQLite3?"
   ]
  },
  {
   "cell_type": "markdown",
   "metadata": {},
   "source": [
    "Le fichier `olympics.sqbpro` est un fichier binaire"
   ]
  },
  {
   "cell_type": "markdown",
   "metadata": {},
   "source": [
    "### Question 5: Donner les caractéristiques de la table `summer` ? "
   ]
  },
  {
   "cell_type": "markdown",
   "metadata": {},
   "source": [
    "La table **summer** contient :\n",
    "\n",
    "1.   9 champs (Year,City,Sport,Discipline,Athlete,Country,Gender,Event,Medal) de type (Integer ou text) \n",
    "\n",
    "2.   31165 enregistrement. "
   ]
  },
  {
   "cell_type": "markdown",
   "metadata": {},
   "source": [
    "---\n",
    "### Question 6: Combien d'enregistrements possède la table `summer` ?"
   ]
  },
  {
   "cell_type": "markdown",
   "metadata": {},
   "source": [
    "La table contient **31165** enregistrements"
   ]
  },
  {
   "cell_type": "markdown",
   "metadata": {},
   "source": [
    "``` sql\n",
    "SELECT Count(*) \n",
    "FROM summer\n",
    "````"
   ]
  },
  {
   "cell_type": "markdown",
   "metadata": {},
   "source": [
    "![all](img/Q0.png)"
   ]
  },
  {
   "cell_type": "markdown",
   "metadata": {},
   "source": [
    "### Question 7: Quelle période des JO couvre ce fichier de résultats ?"
   ]
  },
  {
   "cell_type": "markdown",
   "metadata": {},
   "source": [
    "``` sql \n",
    "SELECT min(Year),max(Year)\n",
    "From summer\n",
    "```"
   ]
  },
  {
   "cell_type": "markdown",
   "metadata": {},
   "source": [
    "Ce fichier couvre la période : 1896 - 2012\n",
    "\n",
    "![periode](img/Q7.png)"
   ]
  },
  {
   "cell_type": "markdown",
   "metadata": {},
   "source": [
    "### Question 8: Indiquer les années et villes des olympiades ? "
   ]
  },
  {
   "cell_type": "markdown",
   "metadata": {},
   "source": [
    "``` sql\n",
    "SELECT Year,Count(Distinct Sport)\n",
    "From summer\n",
    "Group By Year\n",
    "Order by Year DESC\n",
    "```"
   ]
  },
  {
   "cell_type": "markdown",
   "metadata": {},
   "source": [
    "![annee_ville](./img/Q8.png)"
   ]
  },
  {
   "cell_type": "markdown",
   "metadata": {},
   "source": [
    "### Question i: "
   ]
  },
  {
   "cell_type": "markdown",
   "metadata": {},
   "source": [
    "## Q1 : Combien la France a remporté de médailles d’or aux JO de 1984 ?"
   ]
  },
  {
   "cell_type": "markdown",
   "metadata": {},
   "source": [
    "``` sql\n",
    "SELECT Distinct City,Year\n",
    "From summer\n",
    "Order by Year DESC \n",
    "```"
   ]
  },
  {
   "cell_type": "markdown",
   "metadata": {},
   "source": [
    "La france a remporté 21 médailles d'or de 1984\n",
    "\n",
    "![france_1984](.\\img\\Q1.png)\n"
   ]
  },
  {
   "cell_type": "markdown",
   "metadata": {},
   "source": [
    "###  Q2. Quel pays a le plus d’athlètes (toutes années confondues) ? (Matthias)\n",
    "\n"
   ]
  },
  {
   "cell_type": "markdown",
   "metadata": {},
   "source": [
    "``` sql\n",
    "SELECT Country,MAx(pays_max)\n",
    "FROM (\n",
    "    SELECT Country,Count(Distinct Athlete)as pays_max\n",
    "\tFrom summer \n",
    "    Group By Country)\n",
    "```"
   ]
  },
  {
   "cell_type": "markdown",
   "metadata": {},
   "source": [
    "![max_pays_athlele](.\\img\\Q2.png)"
   ]
  },
  {
   "cell_type": "markdown",
   "metadata": {},
   "source": [
    "## Q3. En 2012 combien de médailles le Japon a t-il gagné ? (Théo)\n",
    "\n",
    "\n"
   ]
  },
  {
   "cell_type": "markdown",
   "metadata": {},
   "source": [
    "``` sql\n",
    "SELECT Country,count(Medal)\n",
    "FROM summer \n",
    "WHERE Year=23012 and Country=\"JPN\"\n",
    "```"
   ]
  },
  {
   "cell_type": "markdown",
   "metadata": {},
   "source": [
    "![JPN](.\\img\\Q3.png)"
   ]
  },
  {
   "cell_type": "markdown",
   "metadata": {},
   "source": [
    "### Q4. Dans quels différents sports les Grecs ont-ils gagné des médailles ? - (Corentin L)\n",
    "Resultat: 18 discipline\n",
    "\n",
    "\n"
   ]
  },
  {
   "cell_type": "markdown",
   "metadata": {},
   "source": [
    "``` sql \n",
    "SELECT DISTINCT Discipline,Country\n",
    "FROM summer \n",
    "WHERE Country=\"GRE\"\n",
    "```"
   ]
  },
  {
   "cell_type": "markdown",
   "metadata": {},
   "source": [
    "![GRE](.\\img\\Q4.png)"
   ]
  },
  {
   "cell_type": "markdown",
   "metadata": {},
   "source": [
    "### Q5. Quel pays a remporté le plus de médailles d’or ? (Philippe)\n"
   ]
  },
  {
   "cell_type": "markdown",
   "metadata": {},
   "source": [
    "``` sql\n",
    "SELECT Country,Max(Medal_max)\n",
    "FROM (\n",
    "    SELECT Country,Count(Medal)as Medal_max\n",
    "    From summer\n",
    "    where Medal=\"Gold\"\n",
    "     Group By Country)\n",
    " \n",
    "```"
   ]
  },
  {
   "cell_type": "markdown",
   "metadata": {},
   "source": [
    "![Max_OR](.\\img\\Q5.png)"
   ]
  },
  {
   "cell_type": "markdown",
   "metadata": {},
   "source": [
    "### Q6. Combien de villes différentes ont accueilli les JO d’été entre 1896 - et 2012 ? (Yoann)\n",
    "\n",
    "\n"
   ]
  },
  {
   "cell_type": "markdown",
   "metadata": {},
   "source": [
    "Resultat : 22 villes\n",
    "\n",
    "``` sql \n",
    "Select DISTINCT City\n",
    " From summer\n",
    " where Year BETWEEN 1896 and 2012\n",
    " ```"
   ]
  },
  {
   "cell_type": "markdown",
   "metadata": {},
   "source": [
    "![JO_periode](.\\img\\Q6.png)"
   ]
  },
  {
   "cell_type": "markdown",
   "metadata": {},
   "source": [
    "### Q7. Combien de femmes ont obtenu une médaille d’or ? (Lamia)\n"
   ]
  },
  {
   "cell_type": "markdown",
   "metadata": {},
   "source": [
    "``` sql \n",
    "select Count(*)as count_medal\n",
    " From summer\n",
    " where Gender=\"Women\" and Medal=\"Gold\"\n",
    " ```"
   ]
  },
  {
   "cell_type": "markdown",
   "metadata": {},
   "source": [
    "![femme_or](.\\img\\Q7Bis.png)"
   ]
  },
  {
   "cell_type": "markdown",
   "metadata": {},
   "source": [
    "### Q8. Combien de sports différents sont représentés par année ? (joris) \n",
    "\n"
   ]
  },
  {
   "cell_type": "markdown",
   "metadata": {},
   "source": [
    "``` sql \n",
    "select Year,count(Distinct Sport)\n",
    " From summer\n",
    " Group by Year\n",
    " order by Year DESC\n",
    "```"
   ]
  },
  {
   "cell_type": "markdown",
   "metadata": {},
   "source": [
    "![sport_annee](.\\img\\Q8.png)"
   ]
  },
  {
   "cell_type": "markdown",
   "metadata": {},
   "source": [
    "### Q9. Combien de fois Londres a accueilli les J.O ? (Marvin)\n",
    "\n"
   ]
  },
  {
   "cell_type": "markdown",
   "metadata": {},
   "source": [
    "``` sql\n",
    "select Distinct Year,City\n",
    "From summer\n",
    "WHERE City like\"%London%\"\n",
    "``` "
   ]
  },
  {
   "cell_type": "markdown",
   "metadata": {},
   "source": [
    "![LDN](.\\img\\Q9Bis.png)"
   ]
  },
  {
   "cell_type": "markdown",
   "metadata": {},
   "source": [
    "### Q10. Combien de joueuses comptait la sélection brésilienne de volley-ball - médaillée d’or aux J.O de 2012 ? (Corentin P)\n",
    "\n"
   ]
  },
  {
   "cell_type": "markdown",
   "metadata": {},
   "source": [
    "``` sql \n",
    "SELECT Count(*)\n",
    "From summer\n",
    "WHERE Gender=\"Women\" And Country=\"BRA\" AND Medal=\"Gold\" AND Year=2012 and Sport=\"Volleyball\"\n",
    "```"
   ]
  },
  {
   "cell_type": "markdown",
   "metadata": {},
   "source": [
    "![BRZ](.\\img\\Q10.png)"
   ]
  },
  {
   "cell_type": "markdown",
   "metadata": {},
   "source": [
    "### Q11. Femmes françaises ont participé en 2012 , quel sont leurs - médailles ? (izak)\n"
   ]
  },
  {
   "cell_type": "markdown",
   "metadata": {},
   "source": [
    "``` sql\n",
    "SELECT Athlete,Medal\n",
    "From summer\n",
    "WHERE Gender=\"Women\" And Country=\"FRA\" AND Year=2012 \n",
    "``` "
   ]
  },
  {
   "cell_type": "markdown",
   "metadata": {},
   "source": [
    "##### resultats: 31 medailles différente obtenues par des française en 2012"
   ]
  },
  {
   "cell_type": "markdown",
   "metadata": {},
   "source": [
    "![BRZ](.\\img\\Q11.png)"
   ]
  },
  {
   "cell_type": "markdown",
   "metadata": {},
   "source": [
    "### Q12. Quel est l’athlète qui a remporté le plus de médailles d’or ? (mayel)\n",
    "\n"
   ]
  },
  {
   "cell_type": "markdown",
   "metadata": {},
   "source": [
    "``` sql\n",
    "select Athlete,MAX(nbre) \n",
    "FROM ( \n",
    "    SELECT Athlete,Country,count(Medal) ad nbre\n",
    "    FROM summer \n",
    "    where Medal=\"Gold\"\n",
    "    Group by Athlete,City\n",
    "    Order by nbre DESC)\n",
    "```"
   ]
  },
  {
   "cell_type": "markdown",
   "metadata": {},
   "source": [
    "![athOR](.\\img\\Q12.png)"
   ]
  },
  {
   "cell_type": "markdown",
   "metadata": {},
   "source": [
    "### Q13. Est-ce que la France à déjà gagné une médaille d’or au cricket ? - (jordan)\n",
    "\n"
   ]
  },
  {
   "cell_type": "markdown",
   "metadata": {},
   "source": [
    "```sql\n",
    "SELECT count(*)\n",
    "FROM summer \n",
    "where Medal=\"Gold\" And Sport=\"Cricket\" AND Country=\"FRA\"\n",
    "```"
   ]
  },
  {
   "cell_type": "markdown",
   "metadata": {},
   "source": [
    "\n",
    "![cricket](.\\img\\Q13.png)"
   ]
  },
  {
   "cell_type": "markdown",
   "metadata": {},
   "source": [
    "### Q14. Combien de médaillés ont un nom de famille de plus de 6 lettres en - excluant les années paires ? (jonathan)\n",
    "\n",
    "0 car JO c'est annees paire\n"
   ]
  },
  {
   "cell_type": "markdown",
   "metadata": {},
   "source": [
    "### Q15. Le nombre de médailles d’or par pays en 2012 (Maëlle)\n",
    "\n"
   ]
  },
  {
   "cell_type": "markdown",
   "metadata": {},
   "source": [
    "```sql\n",
    "SELECT Country,count(*) as nbre\n",
    "FROM summer \n",
    "where Medal=\"Gold\" AND Year=2012\n",
    "group by Country\n",
    "order by nbre DESC\n",
    "```"
   ]
  },
  {
   "cell_type": "markdown",
   "metadata": {},
   "source": [
    "![or2012](.\\img\\Q15.png)"
   ]
  },
  {
   "cell_type": "markdown",
   "metadata": {},
   "source": [
    "### Q16. Combien de femmes ont remporté des médailles ? (Alicia)\n",
    "\n"
   ]
  },
  {
   "cell_type": "markdown",
   "metadata": {},
   "source": [
    "```sql\n",
    "SELECT DISTINCT count(DISTINCT Athlete) \n",
    "as femme From summer \n",
    "WHERE Gender=\"Women\"\n",
    "```"
   ]
  },
  {
   "cell_type": "markdown",
   "metadata": {},
   "source": [
    "![athOR](.\\img\\Q16.png)"
   ]
  },
  {
   "cell_type": "markdown",
   "metadata": {},
   "source": [
    "### Q17. Entre 1984 et 2012 combien de médailles a gagné la France ? (Abire)"
   ]
  },
  {
   "cell_type": "markdown",
   "metadata": {},
   "source": [
    "```sql\n",
    "select count(*) \n",
    "from summer\n",
    "where Country=\"FRA\" AND Year BETWEEN 1984 AND 2012\n",
    "```"
   ]
  },
  {
   "cell_type": "markdown",
   "metadata": {},
   "source": [
    "![interval_fr](.\\img\\Q17.png)"
   ]
  },
  {
   "cell_type": "markdown",
   "metadata": {},
   "source": [
    "***********************************FIN*******************************************"
   ]
  }
 ],
 "metadata": {
  "kernelspec": {
   "display_name": "Python 3",
   "language": "python",
   "name": "python3"
  },
  "language_info": {
   "codemirror_mode": {
    "name": "ipython",
    "version": 3
   },
   "file_extension": ".py",
   "mimetype": "text/x-python",
   "name": "python",
   "nbconvert_exporter": "python",
   "pygments_lexer": "ipython3",
   "version": "3.8.6"
  }
 },
 "nbformat": 4,
 "nbformat_minor": 4
}
