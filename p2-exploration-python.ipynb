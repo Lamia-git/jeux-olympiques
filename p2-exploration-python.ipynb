{
 "cells": [
  {
   "cell_type": "markdown",
   "metadata": {},
   "source": [
    "# P2. Exploration Python"
   ]
  },
  {
   "cell_type": "markdown",
   "metadata": {},
   "source": [
    "Le répertoire `/data` contient les résultats brutes des épreuves des jeux d'été et d'hiver pour une période donnée.\n",
    "\n",
    "On s'intéresse dans le cadre de cette partie P2 à l'exploration des résultats des JO d'été (fichier : `summer-olympics.csv`) en s'appuyant sur le langage Python (standard library seulement).\n"
   ]
  },
  {
   "cell_type": "markdown",
   "metadata": {},
   "source": [
    "---"
   ]
  },
  {
   "cell_type": "markdown",
   "metadata": {},
   "source": [
    "## Préliminaire: Chargement des données\n",
    "Le code fourni ci-dessous permet de charger en mémoire le fichier de données `summer-olympics.csv` dans la variable `data`"
   ]
  },
  {
   "cell_type": "code",
   "execution_count": 1,
   "metadata": {},
   "outputs": [
    {
     "name": "stdout",
     "output_type": "stream",
     "text": [
      "data/summer-olympics.csv loaded into data (31165 items)\n",
      "done in 0.25 s.\n"
     ]
    }
   ],
   "source": [
    "import csv\n",
    "import time\n",
    "\n",
    "\n",
    "filename = 'data/summer-olympics.csv'\n",
    "\n",
    "ts = time.time()\n",
    "\n",
    "data = []\n",
    "with open(filename, newline='',encoding='utf-8') as csvfile:\n",
    "    reader = csv.DictReader(csvfile, delimiter=',')\n",
    "    for row in reader:\n",
    "        data.append(row)\n",
    "n_items = len(data)\n",
    "\n",
    "te = time.time()\n",
    "        \n",
    "print(f\"{filename} loaded into data ({n_items} items)\")\n",
    "print(f\"done in {te - ts:.2f} s.\")\n",
    "\n"
   ]
  },
  {
   "cell_type": "markdown",
   "metadata": {},
   "source": [
    "### Question 0: Où trouver la documentation du module `csv` ? de la fonction `csv.DictReader` ? "
   ]
  },
  {
   "cell_type": "code",
   "execution_count": null,
   "metadata": {},
   "outputs": [],
   "source": [
    "https://docs.python.org/fr/3.6/library/csv.html"
   ]
  },
  {
   "cell_type": "code",
   "execution_count": null,
   "metadata": {},
   "outputs": [],
   "source": [
    "##help(csv)"
   ]
  },
  {
   "cell_type": "markdown",
   "metadata": {},
   "source": [
    "---\n",
    "### Question 1: Quel est le type de la variable `data`? "
   ]
  },
  {
   "cell_type": "code",
   "execution_count": null,
   "metadata": {},
   "outputs": [],
   "source": [
    "print(type(data))"
   ]
  },
  {
   "cell_type": "markdown",
   "metadata": {},
   "source": [
    "### Question 2: Combien d'éléments contient la variable `data` ? "
   ]
  },
  {
   "cell_type": "code",
   "execution_count": null,
   "metadata": {},
   "outputs": [],
   "source": [
    "len(data) ##la taille de la list"
   ]
  },
  {
   "cell_type": "markdown",
   "metadata": {},
   "source": [
    "### Question 2: Quel est le premier élément de `data` ? "
   ]
  },
  {
   "cell_type": "code",
   "execution_count": null,
   "metadata": {},
   "outputs": [],
   "source": [
    "data[0]"
   ]
  },
  {
   "cell_type": "markdown",
   "metadata": {},
   "source": [
    "### Question 3: Quel est le dernier élément de data ? "
   ]
  },
  {
   "cell_type": "code",
   "execution_count": null,
   "metadata": {},
   "outputs": [],
   "source": [
    "data[-1]## dernier elementde la liste"
   ]
  },
  {
   "cell_type": "code",
   "execution_count": null,
   "metadata": {},
   "outputs": [],
   "source": [
    "data[len(data)-1]"
   ]
  },
  {
   "cell_type": "markdown",
   "metadata": {},
   "source": [
    " "
   ]
  },
  {
   "cell_type": "markdown",
   "metadata": {},
   "source": [
    "---\n",
    "#### On définit la variable sample de la façon suivante :"
   ]
  },
  {
   "cell_type": "code",
   "execution_count": null,
   "metadata": {},
   "outputs": [],
   "source": [
    "sample = data[25215] ## list's item"
   ]
  },
  {
   "cell_type": "markdown",
   "metadata": {},
   "source": [
    "### Question 4: Que représente la variable `sample` ? "
   ]
  },
  {
   "cell_type": "code",
   "execution_count": null,
   "metadata": {},
   "outputs": [],
   "source": [
    "print(sample) ## afficher la variable"
   ]
  },
  {
   "cell_type": "markdown",
   "metadata": {},
   "source": [
    "### Question 5: Quel est le type de la variable `sample` ? "
   ]
  },
  {
   "cell_type": "code",
   "execution_count": null,
   "metadata": {},
   "outputs": [],
   "source": [
    "type(sample)"
   ]
  },
  {
   "cell_type": "markdown",
   "metadata": {},
   "source": [
    "### Question 6: De quel sport / discipline / compétition (Event) est-il question  ? "
   ]
  },
  {
   "cell_type": "code",
   "execution_count": null,
   "metadata": {},
   "outputs": [],
   "source": [
    "sample[\"Sport\"] ##dictionnaire fonctionne en [cle:Valeur]"
   ]
  },
  {
   "cell_type": "code",
   "execution_count": null,
   "metadata": {},
   "outputs": [],
   "source": [
    "sample[\"Discipline\"]"
   ]
  },
  {
   "cell_type": "code",
   "execution_count": null,
   "metadata": {},
   "outputs": [],
   "source": [
    "sample[\"Year\"]"
   ]
  },
  {
   "cell_type": "markdown",
   "metadata": {},
   "source": [
    "### Question 5: Quel est le type de la variable `sample` ? "
   ]
  },
  {
   "cell_type": "code",
   "execution_count": null,
   "metadata": {},
   "outputs": [],
   "source": [
    "dict"
   ]
  },
  {
   "cell_type": "markdown",
   "metadata": {},
   "source": [
    "### combien de femmes ont eu de medailles Gold en 1984 en france ?"
   ]
  },
  {
   "cell_type": "code",
   "execution_count": null,
   "metadata": {},
   "outputs": [],
   "source": [
    "second_liste=[]\n",
    "\n",
    "\n",
    "## parcourir data\n",
    "for i in data:\n",
    "    if i[\"Year\"]=='1984' and i[\"Country\"]=='FRA' and i[\"Medal\"]==\"Gold\" : \n",
    "        second_liste.append(i)\n",
    "\n",
    "print(len(second_liste))"
   ]
  },
  {
   "cell_type": "markdown",
   "metadata": {},
   "source": [
    "### Combien de femme ont eu de médailles  ?"
   ]
  },
  {
   "cell_type": "code",
   "execution_count": null,
   "metadata": {},
   "outputs": [],
   "source": [
    "for c in data:\n",
    "    if c[\"Gender\"]=='Women':\n",
    "        list_one.append(c)\n",
    "\n",
    "print(len(list_one))"
   ]
  },
  {
   "cell_type": "markdown",
   "metadata": {},
   "source": [
    "### En 2012 combien de médailles le Japon a t-il gagné 3 ?"
   ]
  },
  {
   "cell_type": "code",
   "execution_count": null,
   "metadata": {},
   "outputs": [],
   "source": [
    "second_liste= []\n",
    "for e in data:\n",
    "    if e[\"Year\"]=='2012' and e[\"Country\"]=='JPN': \n",
    "        second_liste.append(e)\n",
    "print(len(second_liste))"
   ]
  },
  {
   "cell_type": "markdown",
   "metadata": {},
   "source": [
    " ### Combien de femmes ont obtenu  une médaille d’or ? (Lamia) ?"
   ]
  },
  {
   "cell_type": "code",
   "execution_count": null,
   "metadata": {},
   "outputs": [],
   "source": [
    "second_liste= []\n",
    "for e in data:\n",
    "    if e[\"Gender\"]=='Women' and e[\"Medal\"]=='Gold': \n",
    "        second_liste.append(e)\n",
    "print(len(second_liste))\n",
    "    "
   ]
  },
  {
   "cell_type": "markdown",
   "metadata": {},
   "source": [
    "### Combien de femmes ont remporté des médailles ? (Alicia) Q19"
   ]
  },
  {
   "cell_type": "code",
   "execution_count": null,
   "metadata": {},
   "outputs": [],
   "source": [
    "\n",
    "list_one= []\n",
    "for c in data:\n",
    "    if c[\"Gender\"]=='Women':\n",
    "        list_one.append(c)\n",
    "\n",
    "print(len(list_one))"
   ]
  },
  {
   "cell_type": "markdown",
   "metadata": {},
   "source": [
    "###  Est-ce que la France à déjà gagné une médaille d'or au cricket ? (jordan) Q13"
   ]
  },
  {
   "cell_type": "code",
   "execution_count": null,
   "metadata": {},
   "outputs": [],
   "source": [
    "boolean= False\n",
    "for c in data:\n",
    "    if c[\"Discipline\"]=='Cricket' and c[\"Country\"]=='FRA' and c[\"Medal\"]==\"Gold\":\n",
    "        boolean=True\n",
    "        break\n",
    "\n",
    "print(boolean)"
   ]
  },
  {
   "cell_type": "markdown",
   "metadata": {},
   "source": [
    "###  Combien de fois Londres a accueilli les J.O ? (Marvin)"
   ]
  },
  {
   "cell_type": "code",
   "execution_count": null,
   "metadata": {},
   "outputs": [],
   "source": [
    "   \n",
    "list_one=[]    \n",
    "annee_london=set()\n",
    "for c in data:\n",
    "    if c[\"City\"]=='London':\n",
    "        list_one.append(c)\n",
    "        annee_london.add(c[\"Year\"])\n",
    "\n",
    "        \n",
    "print(annee_london)     \n",
    "    "
   ]
  },
  {
   "cell_type": "markdown",
   "metadata": {},
   "source": [
    "### Question i: "
   ]
  },
  {
   "cell_type": "markdown",
   "metadata": {},
   "source": [
    "## Q15 le nombre de médailles d'or par pays en 2012\n",
    "\n"
   ]
  },
  {
   "cell_type": "code",
   "execution_count": 68,
   "metadata": {},
   "outputs": [
    {
     "data": {
      "text/plain": [
       "[('USA', 147),\n",
       " ('CHN', 56),\n",
       " ('GBR', 48),\n",
       " ('RUS', 47),\n",
       " ('GER', 45),\n",
       " ('FRA', 30),\n",
       " ('NED', 21),\n",
       " ('AUS', 19),\n",
       " ('KOR', 18),\n",
       " ('MEX', 18),\n",
       " ('ITA', 16),\n",
       " ('CRO', 15),\n",
       " ('NOR', 15),\n",
       " ('BRA', 14),\n",
       " ('HUN', 12),\n",
       " ('NZL', 9),\n",
       " ('UKR', 9),\n",
       " ('JAM', 8),\n",
       " ('JPN', 7),\n",
       " ('RSA', 6),\n",
       " ('ESP', 6),\n",
       " ('CUB', 5),\n",
       " ('IRI', 5),\n",
       " ('BAH', 4),\n",
       " ('CZE', 4),\n",
       " ('PRK', 4),\n",
       " ('ETH', 3),\n",
       " ('POL', 3),\n",
       " ('KAZ', 3),\n",
       " ('DEN', 3),\n",
       " ('BLR', 3),\n",
       " ('TUN', 2),\n",
       " ('LTU', 2),\n",
       " ('', 2),\n",
       " ('KEN', 2),\n",
       " ('SUI', 2),\n",
       " ('ROU', 2),\n",
       " ('SWE', 2),\n",
       " ('AZE', 2),\n",
       " ('ALG', 1),\n",
       " ('GRN', 1),\n",
       " ('DOM', 1),\n",
       " ('TTO', 1),\n",
       " ('UGA', 1),\n",
       " ('IRL', 1),\n",
       " ('LAT', 1),\n",
       " ('COL', 1),\n",
       " ('VEN', 1),\n",
       " ('CAN', 1),\n",
       " ('SLO', 1),\n",
       " ('GEO', 1),\n",
       " ('SRB', 1),\n",
       " ('TUR', 1),\n",
       " ('ARG', 1),\n",
       " ('TPE', 1),\n",
       " ('UZB', 1)]"
      ]
     },
     "execution_count": 68,
     "metadata": {},
     "output_type": "execute_result"
    }
   ],
   "source": [
    "#Solution B\n",
    "from collections import Counter\n",
    "\n",
    "# liste des pays qui ont la medaille d'or en 2012\n",
    "pays_medailles_or= []\n",
    "nbr_medailles_par_pays=[]\n",
    "for p in data:\n",
    "    if p[\"Year\"]=='2012' and p[\"Medal\"]=='Gold': \n",
    "        pays_medailles_or.append(p[\"Country\"])\n",
    "\n",
    "#utilisation de la fonction prédifinie \"counter\" du module collection        \n",
    "Counter(pays_medailles_or).most_common()\n"
   ]
  },
  {
   "cell_type": "code",
   "execution_count": 72,
   "metadata": {},
   "outputs": [
    {
     "name": "stdout",
     "output_type": "stream",
     "text": [
      "{'': 2,\n",
      " 'ALG': 1,\n",
      " 'ARG': 1,\n",
      " 'AUS': 19,\n",
      " 'AZE': 2,\n",
      " 'BAH': 4,\n",
      " 'BLR': 3,\n",
      " 'BRA': 14,\n",
      " 'CAN': 1,\n",
      " 'CHN': 56,\n",
      " 'COL': 1,\n",
      " 'CRO': 15,\n",
      " 'CUB': 5,\n",
      " 'CZE': 4,\n",
      " 'DEN': 3,\n",
      " 'DOM': 1,\n",
      " 'ESP': 6,\n",
      " 'ETH': 3,\n",
      " 'FRA': 30,\n",
      " 'GBR': 48,\n",
      " 'GEO': 1,\n",
      " 'GER': 45,\n",
      " 'GRN': 1,\n",
      " 'HUN': 12,\n",
      " 'IRI': 5,\n",
      " 'IRL': 1,\n",
      " 'ITA': 16,\n",
      " 'JAM': 8,\n",
      " 'JPN': 7,\n",
      " 'KAZ': 3,\n",
      " 'KEN': 2,\n",
      " 'KOR': 18,\n",
      " 'LAT': 1,\n",
      " 'LTU': 2,\n",
      " 'MEX': 18,\n",
      " 'NED': 21,\n",
      " 'NOR': 15,\n",
      " 'NZL': 9,\n",
      " 'POL': 3,\n",
      " 'PRK': 4,\n",
      " 'ROU': 2,\n",
      " 'RSA': 6,\n",
      " 'RUS': 47,\n",
      " 'SLO': 1,\n",
      " 'SRB': 1,\n",
      " 'SUI': 2,\n",
      " 'SWE': 2,\n",
      " 'TPE': 1,\n",
      " 'TTO': 1,\n",
      " 'TUN': 2,\n",
      " 'TUR': 1,\n",
      " 'UGA': 1,\n",
      " 'UKR': 9,\n",
      " 'USA': 147,\n",
      " 'UZB': 1,\n",
      " 'VEN': 1}\n"
     ]
    }
   ],
   "source": [
    "# solution 1\n",
    "#déclaration des variables\n",
    "from pprint import pprint\n",
    "pays_medailles_or= []\n",
    "nbr_medailles_par_pays=dict()\n",
    "\n",
    "# liste des pays qui ont eu la medaille d'or en 2012\n",
    "for p in data:\n",
    "    if p[\"Year\"]=='2012' and p[\"Medal\"]=='Gold': \n",
    "        pays_medailles_or.append(p[\"Country\"])\n",
    "\n",
    "#Parcourir la liste des pays qui ont la médaille d'or en 2012 \n",
    "#vérifier si ce pays existe dans le dictionnaire (nbr_medailles_par_pays) \n",
    "# Si ok on incrémente le nombre de médailles obtenues pour ce pays, sinon on insère ce pays pour la première fois (cle) avec médailles=1 (valeur)  \n",
    "\n",
    "for pays in pays_medailles_or:\n",
    "    if pays in nbr_medailles_par_pays:\n",
    "        nbr_medailles_par_pays[pays]+=1\n",
    "    else:\n",
    "        nbr_medailles_par_pays.update({pays:1})\n",
    "\n",
    "\n",
    "pprint(nbr_medailles_par_pays)\n",
    "\n",
    "\n",
    "        \n",
    "        "
   ]
  },
  {
   "cell_type": "code",
   "execution_count": null,
   "metadata": {},
   "outputs": [],
   "source": [
    "Fin"
   ]
  }
 ],
 "metadata": {
  "kernelspec": {
   "display_name": "Python 3",
   "language": "python",
   "name": "python3"
  },
  "language_info": {
   "codemirror_mode": {
    "name": "ipython",
    "version": 3
   },
   "file_extension": ".py",
   "mimetype": "text/x-python",
   "name": "python",
   "nbconvert_exporter": "python",
   "pygments_lexer": "ipython3",
   "version": "3.8.6"
  }
 },
 "nbformat": 4,
 "nbformat_minor": 4
}
